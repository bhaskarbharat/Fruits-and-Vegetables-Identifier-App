{
 "cells": [
  {
   "cell_type": "code",
   "execution_count": null,
   "id": "5ca284d4",
   "metadata": {},
   "outputs": [],
   "source": [
    "!pip install fastai\n",
    "!pip install -Uqq fastbook\n",
    "!pip install voila\n",
    "!jupyter serverextension enable --sys-prefix voila"
   ]
  },
  {
   "cell_type": "code",
   "execution_count": 1,
   "id": "a5408db5",
   "metadata": {},
   "outputs": [
    {
     "name": "stderr",
     "output_type": "stream",
     "text": [
      "D:\\Software_Installation_Directory\\Anaconda\\envs\\python3-fastai\\lib\\site-packages\\fastbook\\__init__.py:18: UserWarning: Missing `graphviz` - please run `conda install fastbook`\n",
      "  except ModuleNotFoundError: warn(\"Missing `graphviz` - please run `conda install fastbook`\")\n"
     ]
    }
   ],
   "source": [
    "import fastbook\n",
    "fastbook.setup_book()"
   ]
  },
  {
   "cell_type": "code",
   "execution_count": 2,
   "id": "b95925d7",
   "metadata": {},
   "outputs": [],
   "source": [
    "from fastbook import *\n",
    "from fastai.vision.widgets import *"
   ]
  },
  {
   "cell_type": "code",
   "execution_count": 3,
   "id": "a2a13668",
   "metadata": {},
   "outputs": [],
   "source": [
    "import os\n",
    "from fastai.vision.all import *"
   ]
  },
  {
   "cell_type": "code",
   "execution_count": 4,
   "id": "f366788a",
   "metadata": {},
   "outputs": [],
   "source": [
    "# import pathlib\n",
    "# temp = pathlib.PosixPath\n",
    "# pathlib.PosixPath = pathlib.WindowsPath"
   ]
  },
  {
   "cell_type": "code",
   "execution_count": 44,
   "id": "9afaf9a6",
   "metadata": {},
   "outputs": [],
   "source": [
    "# from termcolor import colored"
   ]
  },
  {
   "cell_type": "code",
   "execution_count": 5,
   "id": "c9578237",
   "metadata": {},
   "outputs": [],
   "source": [
    "path = Path()\n",
    "\n",
    "learn_inf = load_learner(path/'export.pkl')"
   ]
  },
  {
   "cell_type": "code",
   "execution_count": null,
   "id": "fe2a3aaf",
   "metadata": {},
   "outputs": [],
   "source": [
    "# learn_inf.predict(path/\"fruit-and-vegetable-image-recognition-dataset/test/kiwi/Image_1.jpg\")"
   ]
  },
  {
   "cell_type": "code",
   "execution_count": null,
   "id": "8dcae52f",
   "metadata": {},
   "outputs": [],
   "source": [
    "# learn_inf.dls.vocab"
   ]
  },
  {
   "cell_type": "code",
   "execution_count": 27,
   "id": "4b4b2b18",
   "metadata": {},
   "outputs": [],
   "source": [
    "btn_upload = widgets.FileUpload()\n",
    "# btn_upload"
   ]
  },
  {
   "cell_type": "code",
   "execution_count": 16,
   "id": "a1e50158",
   "metadata": {},
   "outputs": [],
   "source": [
    "#hide\n",
    "# For the book, we can't actually click an upload button, so we fake it\n",
    "# btn_upload = SimpleNamespace(data = [path/\"fruit-and-vegetable-image-recognition-dataset/test/kiwi/Image_1.jpg\"])"
   ]
  },
  {
   "cell_type": "code",
   "execution_count": 17,
   "id": "c418273c",
   "metadata": {},
   "outputs": [],
   "source": [
    "# img = PILImage.create(btn_upload.data[-1])"
   ]
  },
  {
   "cell_type": "code",
   "execution_count": 26,
   "id": "9c121dd2",
   "metadata": {},
   "outputs": [],
   "source": [
    "out_pl = widgets.Output()\n",
    "# out_pl.clear_output()\n",
    "# with out_pl: display(img.to_thumb(128,128))\n",
    "# out_pl"
   ]
  },
  {
   "cell_type": "code",
   "execution_count": 19,
   "id": "9f49a890",
   "metadata": {},
   "outputs": [
    {
     "data": {
      "text/html": [],
      "text/plain": [
       "<IPython.core.display.HTML object>"
      ]
     },
     "metadata": {},
     "output_type": "display_data"
    }
   ],
   "source": [
    "# pred,pred_idx,probs = learn_inf.predict(img)"
   ]
  },
  {
   "cell_type": "code",
   "execution_count": 67,
   "id": "aa654e23",
   "metadata": {},
   "outputs": [],
   "source": [
    "lbl_pred = widgets.Label()\n",
    "# lbl_pred.value = f'Prediction: {pred}; Prediction Confidence (Probability): {probs[pred_idx]:.04f}'\n",
    "# lbl_pred"
   ]
  },
  {
   "cell_type": "code",
   "execution_count": 29,
   "id": "9f360afd",
   "metadata": {},
   "outputs": [],
   "source": [
    "# btn_run = widgets.Button(description='Classify')\n",
    "# btn_run"
   ]
  },
  {
   "cell_type": "code",
   "execution_count": 68,
   "id": "eb5cbbd6",
   "metadata": {},
   "outputs": [],
   "source": [
    "def on_click_classify(change):\n",
    "    img = PILImage.create(btn_upload.data[-1])\n",
    "    out_pl.clear_output()\n",
    "    with out_pl: display(img.to_thumb(128,128))\n",
    "    pred,pred_idx,probs = learn_inf.predict(img)\n",
    "    lbl_pred.value = f'Prediction: {pred}; Prediction Confidence (Probability): {probs[pred_idx]:.04f}'\n",
    "\n",
    "# btn_run.on_click(on_click_classify)"
   ]
  },
  {
   "cell_type": "code",
   "execution_count": null,
   "id": "ee6a551d",
   "metadata": {},
   "outputs": [],
   "source": [
    "btn_upload.observe(on_click_classify, names=['data'])"
   ]
  },
  {
   "cell_type": "code",
   "execution_count": 23,
   "id": "5aebbb4f",
   "metadata": {},
   "outputs": [],
   "source": [
    "#hide\n",
    "#Putting back btn_upload to a widget for next cell\n",
    "# btn_upload = widgets.FileUpload()"
   ]
  },
  {
   "cell_type": "markdown",
   "id": "a8f498b5",
   "metadata": {},
   "source": [
    "# Fruits & Vegetables Identifier App\n",
    "\n",
    "## This app can identify images of the following food items:\n",
    "\n",
    "### Fruits:\n",
    "__'apple', 'banana', 'grapes', 'kiwi', 'mango', 'orange', 'pear', 'pineapple', 'pomegranate', 'watermelon'__\n",
    "\n",
    "### Vegetables:\n",
    "__'beetroot', 'bell pepper', 'cabbage', 'capsicum', 'carrot', 'cauliflower', 'chilli pepper', 'corn', 'cucumber', 'eggplant', 'garlic', 'ginger', 'jalepeno', 'lemon', 'lettuce', 'onion', 'paprika', 'peas', 'potato', 'raddish', 'soy beans', 'spinach', 'sweetcorn', 'sweetpotato', 'tomato', 'turnip'__\n",
    "\n",
    "#### Select an image !"
   ]
  },
  {
   "cell_type": "code",
   "execution_count": 69,
   "id": "1ff0b5a4",
   "metadata": {},
   "outputs": [
    {
     "data": {
      "application/vnd.jupyter.widget-view+json": {
       "model_id": "8d33f36fc4d5434a93cb37aaa02d7550",
       "version_major": 2,
       "version_minor": 0
      },
      "text/plain": [
       "VBox(children=(Label(value='Select an image !'), FileUpload(value={}, description='Upload'), Button(descriptio…"
      ]
     },
     "metadata": {},
     "output_type": "display_data"
    }
   ],
   "source": [
    "display(VBox([widgets.Label('Select an image !'), \n",
    "      btn_upload, out_pl, lbl_pred]))"
   ]
  },
  {
   "cell_type": "code",
   "execution_count": 54,
   "id": "78b5f036",
   "metadata": {},
   "outputs": [],
   "source": [
    "# print(colored(f'Prediction:', attrs=['bold']))"
   ]
  },
  {
   "cell_type": "code",
   "execution_count": null,
   "id": "7bfff353",
   "metadata": {},
   "outputs": [],
   "source": []
  }
 ],
 "metadata": {
  "kernelspec": {
   "display_name": "python3-fastai",
   "language": "python",
   "name": "python3-fastai"
  },
  "language_info": {
   "codemirror_mode": {
    "name": "ipython",
    "version": 3
   },
   "file_extension": ".py",
   "mimetype": "text/x-python",
   "name": "python",
   "nbconvert_exporter": "python",
   "pygments_lexer": "ipython3",
   "version": "3.7.10"
  }
 },
 "nbformat": 4,
 "nbformat_minor": 5
}
